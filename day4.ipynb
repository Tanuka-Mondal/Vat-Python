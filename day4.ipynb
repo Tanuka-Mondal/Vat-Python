{
  "nbformat": 4,
  "nbformat_minor": 0,
  "metadata": {
    "colab": {
      "name": "day4.ipynb",
      "provenance": [],
      "authorship_tag": "ABX9TyN+NglEFOue3znoLJEWZMa9",
      "include_colab_link": true
    },
    "kernelspec": {
      "name": "python3",
      "display_name": "Python 3"
    },
    "language_info": {
      "name": "python"
    }
  },
  "cells": [
    {
      "cell_type": "markdown",
      "metadata": {
        "id": "view-in-github",
        "colab_type": "text"
      },
      "source": [
        "<a href=\"https://colab.research.google.com/github/Tanuka-Mondal/Vat-Python/blob/main/day4.ipynb\" target=\"_parent\"><img src=\"https://colab.research.google.com/assets/colab-badge.svg\" alt=\"Open In Colab\"/></a>"
      ]
    },
    {
      "cell_type": "code",
      "metadata": {
        "colab": {
          "base_uri": "https://localhost:8080/"
        },
        "id": "pWXdXZKAXYUU",
        "outputId": "f8419820-0dcc-4b03-e8b1-ee7c0e36d522"
      },
      "source": [
        "def addition(x,y):\n",
        "  sum = x+y\n",
        "  return sum\n",
        "\n",
        "a = addition(10,20)  \n",
        "print(a)"
      ],
      "execution_count": 2,
      "outputs": [
        {
          "output_type": "stream",
          "name": "stdout",
          "text": [
            "30\n"
          ]
        }
      ]
    },
    {
      "cell_type": "code",
      "metadata": {
        "colab": {
          "base_uri": "https://localhost:8080/"
        },
        "id": "k_pvTgsJYORN",
        "outputId": "160eb69d-5a8f-4202-cec0-6e5a43a46d9f"
      },
      "source": [
        "def square(x):\n",
        "  sq = x**2\n",
        "  return sq\n",
        "\n",
        "b = square(5)\n",
        "print(b)  "
      ],
      "execution_count": 3,
      "outputs": [
        {
          "output_type": "stream",
          "name": "stdout",
          "text": [
            "25\n"
          ]
        }
      ]
    },
    {
      "cell_type": "code",
      "metadata": {
        "colab": {
          "base_uri": "https://localhost:8080/"
        },
        "id": "Dna4n5FvYepm",
        "outputId": "6bccf628-b742-48e9-a056-ba2c8ffb65dd"
      },
      "source": [
        "def multiplication(x,y):\n",
        "  mult = x*y\n",
        "  return mult\n",
        "a = int(input())\n",
        "b = int(input())\n",
        "c = multiplication(a,b)\n",
        "print(c)  "
      ],
      "execution_count": 5,
      "outputs": [
        {
          "output_type": "stream",
          "name": "stdout",
          "text": [
            "5\n",
            "9\n",
            "45\n"
          ]
        }
      ]
    },
    {
      "cell_type": "code",
      "metadata": {
        "colab": {
          "base_uri": "https://localhost:8080/"
        },
        "id": "qagwB2gVZLSa",
        "outputId": "68d42813-941d-4270-8183-5b6156ca96b1"
      },
      "source": [
        "def facto(x):\n",
        "  ans = 0\n",
        "  if x == 1 or x == 0:\n",
        "    return 1\n",
        "  else:\n",
        "    return x * facto(x-1)\n",
        "\n",
        "a = facto(5)  \n",
        "print(a)"
      ],
      "execution_count": 13,
      "outputs": [
        {
          "output_type": "stream",
          "name": "stdout",
          "text": [
            "120\n"
          ]
        }
      ]
    },
    {
      "cell_type": "code",
      "metadata": {
        "colab": {
          "base_uri": "https://localhost:8080/"
        },
        "id": "Uqc5mbCZbHh-",
        "outputId": "5c652c35-bd5b-4069-e00b-94f461a1b73b"
      },
      "source": [
        "def fact(x):\n",
        "  if x==0:\n",
        "    return 1\n",
        "  else:\n",
        "    return x*fact(x-1) \n",
        "\n",
        "b = fact(6)\n",
        "print(b)     "
      ],
      "execution_count": 14,
      "outputs": [
        {
          "output_type": "stream",
          "name": "stdout",
          "text": [
            "720\n"
          ]
        }
      ]
    },
    {
      "cell_type": "code",
      "metadata": {
        "colab": {
          "base_uri": "https://localhost:8080/"
        },
        "id": "DvBVsIQKbqK-",
        "outputId": "c1542526-d38b-4760-b4df-be3530848533"
      },
      "source": [
        "def caseConv(s):\n",
        "  return s.swapcase()\n",
        "\n",
        "s1 = input(\"String: \")  \n",
        "\n",
        "print(caseConv(s1))  "
      ],
      "execution_count": 23,
      "outputs": [
        {
          "output_type": "stream",
          "name": "stdout",
          "text": [
            "String: Hello World\n",
            "hELLO wORLD\n"
          ]
        }
      ]
    }
  ]
}