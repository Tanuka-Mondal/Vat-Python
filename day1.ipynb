{
  "nbformat": 4,
  "nbformat_minor": 0,
  "metadata": {
    "colab": {
      "name": "day1.ipynb",
      "provenance": [],
      "authorship_tag": "ABX9TyOo8++PW5XnupQP1BLB8xCO",
      "include_colab_link": true
    },
    "kernelspec": {
      "name": "python3",
      "display_name": "Python 3"
    },
    "language_info": {
      "name": "python"
    }
  },
  "cells": [
    {
      "cell_type": "markdown",
      "metadata": {
        "id": "view-in-github",
        "colab_type": "text"
      },
      "source": [
        "<a href=\"https://colab.research.google.com/github/Tanuka-Mondal/Vat-Python/blob/main/day1.ipynb\" target=\"_parent\"><img src=\"https://colab.research.google.com/assets/colab-badge.svg\" alt=\"Open In Colab\"/></a>"
      ]
    },
    {
      "cell_type": "code",
      "metadata": {
        "colab": {
          "base_uri": "https://localhost:8080/",
          "height": 135
        },
        "id": "yvhGosiCt8ZN",
        "outputId": "139b15f9-cc89-469b-82a5-be7bb98ed2c0"
      },
      "source": [
        "var break\n",
        "break = 5"
      ],
      "execution_count": 3,
      "outputs": [
        {
          "output_type": "error",
          "ename": "SyntaxError",
          "evalue": "ignored",
          "traceback": [
            "\u001b[0;36m  File \u001b[0;32m\"<ipython-input-3-c17ad33303b4>\"\u001b[0;36m, line \u001b[0;32m1\u001b[0m\n\u001b[0;31m    var break\u001b[0m\n\u001b[0m            ^\u001b[0m\n\u001b[0;31mSyntaxError\u001b[0m\u001b[0;31m:\u001b[0m invalid syntax\n"
          ]
        }
      ]
    },
    {
      "cell_type": "code",
      "metadata": {
        "colab": {
          "base_uri": "https://localhost:8080/"
        },
        "id": "RrP3P04suA-_",
        "outputId": "c3ef4f58-a480-467b-9ed9-0bfd972f40b8"
      },
      "source": [
        "birthYear = int(input(\"Enter your birth year= \"))\n",
        "currentYear = int(input(\"Enter current year= \"))\n",
        "age = currentYear-birthYear\n",
        "print(\"age= \"+str(age))"
      ],
      "execution_count": 1,
      "outputs": [
        {
          "output_type": "stream",
          "name": "stdout",
          "text": [
            "Enter your birth year= 2001\n",
            "Enter current year= 2021\n",
            "age= 20\n"
          ]
        }
      ]
    },
    {
      "cell_type": "code",
      "metadata": {
        "colab": {
          "base_uri": "https://localhost:8080/"
        },
        "id": "ZYt2-XdzuG9n",
        "outputId": "d91287a2-4b84-4811-c937-43260ffdc1bc"
      },
      "source": [
        "firstName = str(input(\"Enter your first name= \"))\n",
        "middleName = str(input(\"Enter your middle name= \"))\n",
        "lastName = str(input(\"Enter your last name= \"))\n",
        "\n",
        "fullname = firstName+ \" \" + middleName + \" \" + lastName\n",
        "\n",
        "print(fullname)"
      ],
      "execution_count": 2,
      "outputs": [
        {
          "output_type": "stream",
          "name": "stdout",
          "text": [
            "Enter your first name= Tanuka\n",
            "Enter your middle name= \n",
            "Enter your last name= Mondal\n",
            "Tanuka  Mondal\n"
          ]
        }
      ]
    },
    {
      "cell_type": "code",
      "metadata": {
        "id": "wN9K5qBAuRBa"
      },
      "source": [
        ""
      ],
      "execution_count": null,
      "outputs": []
    }
  ]
}