{
  "nbformat": 4,
  "nbformat_minor": 0,
  "metadata": {
    "colab": {
      "name": "day3.ipynb",
      "provenance": [],
      "authorship_tag": "ABX9TyPv/P6KgEhIdFyFsKQ3I5us",
      "include_colab_link": true
    },
    "kernelspec": {
      "name": "python3",
      "display_name": "Python 3"
    },
    "language_info": {
      "name": "python"
    }
  },
  "cells": [
    {
      "cell_type": "markdown",
      "metadata": {
        "id": "view-in-github",
        "colab_type": "text"
      },
      "source": [
        "<a href=\"https://colab.research.google.com/github/Tanuka-Mondal/Vat-Python/blob/main/day3.ipynb\" target=\"_parent\"><img src=\"https://colab.research.google.com/assets/colab-badge.svg\" alt=\"Open In Colab\"/></a>"
      ]
    },
    {
      "cell_type": "code",
      "metadata": {
        "colab": {
          "base_uri": "https://localhost:8080/"
        },
        "id": "kqShTPdhJRQU",
        "outputId": "92e03b83-9dbe-43ae-8f51-3318686cf510"
      },
      "source": [
        "s02 = {1,2,3,4,5,6,7,8,9}\n",
        "s02.discard(6)\n",
        "s02"
      ],
      "execution_count": 7,
      "outputs": [
        {
          "output_type": "execute_result",
          "data": {
            "text/plain": [
              "{1, 2, 3, 4, 5, 7, 8, 9}"
            ]
          },
          "metadata": {},
          "execution_count": 7
        }
      ]
    },
    {
      "cell_type": "code",
      "metadata": {
        "colab": {
          "base_uri": "https://localhost:8080/"
        },
        "id": "XBMNdvt0Jbzw",
        "outputId": "9e246323-c3ab-4c19-95a5-b8a06c0180e1"
      },
      "source": [
        "s02 = {1,2,3,4,5,6,7,8,9}\n",
        "s02.discard(10)\n",
        "s02"
      ],
      "execution_count": 8,
      "outputs": [
        {
          "output_type": "execute_result",
          "data": {
            "text/plain": [
              "{1, 2, 3, 4, 5, 6, 7, 8, 9}"
            ]
          },
          "metadata": {},
          "execution_count": 8
        }
      ]
    },
    {
      "cell_type": "code",
      "metadata": {
        "colab": {
          "base_uri": "https://localhost:8080/"
        },
        "id": "5elh-jb9FBke",
        "outputId": "1ba05f59-4ffe-4cf5-bc09-c33e6d51b23d"
      },
      "source": [
        "s03 = {1,2,3,4,5,6,7,8,9}\n",
        "s03.remove(6)\n",
        "s03"
      ],
      "execution_count": 1,
      "outputs": [
        {
          "output_type": "execute_result",
          "data": {
            "text/plain": [
              "{1, 2, 3, 4, 5, 7, 8, 9}"
            ]
          },
          "metadata": {},
          "execution_count": 1
        }
      ]
    },
    {
      "cell_type": "code",
      "metadata": {
        "colab": {
          "base_uri": "https://localhost:8080/",
          "height": 209
        },
        "id": "1gR4c3o7I0bO",
        "outputId": "a8f783e7-5208-4b0e-95b5-3f194957fba6"
      },
      "source": [
        "s03 = {1,2,3,4,5,6,7,8,9}\n",
        "s03.remove(10)\n",
        "s03"
      ],
      "execution_count": 2,
      "outputs": [
        {
          "output_type": "error",
          "ename": "KeyError",
          "evalue": "ignored",
          "traceback": [
            "\u001b[0;31m---------------------------------------------------------------------------\u001b[0m",
            "\u001b[0;31mKeyError\u001b[0m                                  Traceback (most recent call last)",
            "\u001b[0;32m<ipython-input-2-07499074cf59>\u001b[0m in \u001b[0;36m<module>\u001b[0;34m()\u001b[0m\n\u001b[1;32m      1\u001b[0m \u001b[0ms03\u001b[0m \u001b[0;34m=\u001b[0m \u001b[0;34m{\u001b[0m\u001b[0;36m1\u001b[0m\u001b[0;34m,\u001b[0m\u001b[0;36m2\u001b[0m\u001b[0;34m,\u001b[0m\u001b[0;36m3\u001b[0m\u001b[0;34m,\u001b[0m\u001b[0;36m4\u001b[0m\u001b[0;34m,\u001b[0m\u001b[0;36m5\u001b[0m\u001b[0;34m,\u001b[0m\u001b[0;36m6\u001b[0m\u001b[0;34m,\u001b[0m\u001b[0;36m7\u001b[0m\u001b[0;34m,\u001b[0m\u001b[0;36m8\u001b[0m\u001b[0;34m,\u001b[0m\u001b[0;36m9\u001b[0m\u001b[0;34m}\u001b[0m\u001b[0;34m\u001b[0m\u001b[0;34m\u001b[0m\u001b[0m\n\u001b[0;32m----> 2\u001b[0;31m \u001b[0ms03\u001b[0m\u001b[0;34m.\u001b[0m\u001b[0mremove\u001b[0m\u001b[0;34m(\u001b[0m\u001b[0;36m10\u001b[0m\u001b[0;34m)\u001b[0m\u001b[0;34m\u001b[0m\u001b[0;34m\u001b[0m\u001b[0m\n\u001b[0m\u001b[1;32m      3\u001b[0m \u001b[0ms03\u001b[0m\u001b[0;34m\u001b[0m\u001b[0;34m\u001b[0m\u001b[0m\n",
            "\u001b[0;31mKeyError\u001b[0m: 10"
          ]
        }
      ]
    },
    {
      "cell_type": "code",
      "metadata": {
        "colab": {
          "base_uri": "https://localhost:8080/"
        },
        "id": "rKDUeOu1I6bi",
        "outputId": "aa40477a-458b-4389-b7aa-cdf835e5a39a"
      },
      "source": [
        "s03 = {'a',1,2,3,4,5,6,7,8,9}\n",
        "d = s03.pop()\n",
        "print(s03)\n",
        "d"
      ],
      "execution_count": 5,
      "outputs": [
        {
          "output_type": "stream",
          "name": "stdout",
          "text": [
            "{2, 3, 4, 5, 6, 7, 8, 9, 'a'}\n"
          ]
        },
        {
          "output_type": "execute_result",
          "data": {
            "text/plain": [
              "1"
            ]
          },
          "metadata": {},
          "execution_count": 5
        }
      ]
    },
    {
      "cell_type": "code",
      "metadata": {
        "colab": {
          "base_uri": "https://localhost:8080/"
        },
        "id": "18K1BIwvJO1t",
        "outputId": "f39b6c1a-1549-440b-c4c6-604560288add"
      },
      "source": [
        "s04 = {4,6,7}\n",
        "s04.clear()\n",
        "s04"
      ],
      "execution_count": 9,
      "outputs": [
        {
          "output_type": "execute_result",
          "data": {
            "text/plain": [
              "set()"
            ]
          },
          "metadata": {},
          "execution_count": 9
        }
      ]
    },
    {
      "cell_type": "code",
      "metadata": {
        "colab": {
          "base_uri": "https://localhost:8080/"
        },
        "id": "FBPQE4SrJnqL",
        "outputId": "e0e9edc4-2940-4d09-f4f8-53584a544709"
      },
      "source": [
        "l = [7,8,9]\n",
        "s = set(l)\n",
        "s"
      ],
      "execution_count": 10,
      "outputs": [
        {
          "output_type": "execute_result",
          "data": {
            "text/plain": [
              "{7, 8, 9}"
            ]
          },
          "metadata": {},
          "execution_count": 10
        }
      ]
    },
    {
      "cell_type": "code",
      "metadata": {
        "colab": {
          "base_uri": "https://localhost:8080/"
        },
        "id": "eG7ipjk1KMBn",
        "outputId": "d1e4cd93-97a9-4a9f-b15c-8644ea7276c9"
      },
      "source": [
        "s01 = {\"sky\",\"water\",\"fire\"}\n",
        "l = [\"red\",\"yellow\",\"blue\"]\n",
        "s02 = set(l)\n",
        "s01.update(s02)\n",
        "s01"
      ],
      "execution_count": 11,
      "outputs": [
        {
          "output_type": "execute_result",
          "data": {
            "text/plain": [
              "{'blue', 'fire', 'red', 'sky', 'water', 'yellow'}"
            ]
          },
          "metadata": {},
          "execution_count": 11
        }
      ]
    },
    {
      "cell_type": "code",
      "metadata": {
        "colab": {
          "base_uri": "https://localhost:8080/"
        },
        "id": "KD4RgMOrK5h9",
        "outputId": "4494998d-d6cc-4d7c-e8fc-c3eba2595ca7"
      },
      "source": [
        "s01 = {10,20,30,40,50}\n",
        "s02 = {30,40,50,60,70}\n",
        "(s01&s02)\n"
      ],
      "execution_count": 16,
      "outputs": [
        {
          "output_type": "execute_result",
          "data": {
            "text/plain": [
              "{30, 40, 50}"
            ]
          },
          "metadata": {},
          "execution_count": 16
        }
      ]
    },
    {
      "cell_type": "code",
      "metadata": {
        "colab": {
          "base_uri": "https://localhost:8080/"
        },
        "id": "P8Hvx_A2L1ej",
        "outputId": "fcd18aa4-37e8-4531-f68a-ea1cc41d7f44"
      },
      "source": [
        "s01 = {10,20,30,60}\n",
        "s02 = {20,40,50,70}\n",
        "(s01-s02)"
      ],
      "execution_count": 19,
      "outputs": [
        {
          "output_type": "execute_result",
          "data": {
            "text/plain": [
              "{10, 30, 60}"
            ]
          },
          "metadata": {},
          "execution_count": 19
        }
      ]
    },
    {
      "cell_type": "code",
      "metadata": {
        "colab": {
          "base_uri": "https://localhost:8080/",
          "height": 72
        },
        "id": "eeNQ7BirMbUN",
        "outputId": "6ae4477d-fc09-4e1f-eb51-279edf0fd02f"
      },
      "source": [
        "s1 = input(\"Enter a string: \")\n",
        "s2 = input(\"Enter another string: \")\n",
        "s01 = set(s1)\n",
        "s02 = set(s2)\n",
        "s03 = \"\".join(s01^s02)\n",
        "s03\n"
      ],
      "execution_count": 26,
      "outputs": [
        {
          "name": "stdout",
          "output_type": "stream",
          "text": [
            "Enter a string: monkey\n",
            "Enter another string: mangoe\n"
          ]
        },
        {
          "output_type": "execute_result",
          "data": {
            "application/vnd.google.colaboratory.intrinsic+json": {
              "type": "string"
            },
            "text/plain": [
              "'agyk'"
            ]
          },
          "metadata": {},
          "execution_count": 26
        }
      ]
    },
    {
      "cell_type": "code",
      "metadata": {
        "colab": {
          "base_uri": "https://localhost:8080/"
        },
        "id": "yXBUnP8DPyse",
        "outputId": "8e181d7d-aaf0-4aa4-9789-7f3740649cdb"
      },
      "source": [
        "l1 = [10,5,7,6,9]\n",
        "l2 = [3,5,6,1,9]\n",
        "l3 = [5,1,6,90]\n",
        "s1 = set(l1)\n",
        "s2 = set(l2)\n",
        "s3 = set(l3)\n",
        "\n",
        "new = (s1&s2&s3)\n",
        "newlist = list(new)\n",
        "newlist"
      ],
      "execution_count": 31,
      "outputs": [
        {
          "output_type": "execute_result",
          "data": {
            "text/plain": [
              "[5, 6]"
            ]
          },
          "metadata": {},
          "execution_count": 31
        }
      ]
    },
    {
      "cell_type": "code",
      "metadata": {
        "colab": {
          "base_uri": "https://localhost:8080/"
        },
        "id": "_nk5s0fjRnPY",
        "outputId": "a6c8db5e-d0a3-4653-9834-595810434c39"
      },
      "source": [
        "vowelSet = set(\"AaEeIiOoUu\")\n",
        "s = input(\"String: \")\n",
        "c = 0\n",
        "for i in s:\n",
        "        if i in vowelSet:\n",
        "            c += 1\n",
        "      \n",
        "print(\"Vowel:\", c)"
      ],
      "execution_count": 34,
      "outputs": [
        {
          "output_type": "stream",
          "name": "stdout",
          "text": [
            "String: Hi Everyone\n",
            "Vowel: 5\n"
          ]
        }
      ]
    },
    {
      "cell_type": "code",
      "metadata": {
        "colab": {
          "base_uri": "https://localhost:8080/"
        },
        "id": "_EToyWwdT8Ld",
        "outputId": "d0cb0cbb-dc7d-487c-e9f0-b4d546d24070"
      },
      "source": [
        "s1 = input(\"String: \")\n",
        "s01 = set(s1)\n",
        "l1 = list(s1)\n",
        "print(l1)\n",
        "if len(l1)==len(s01):\n",
        "  print(\"No duplicate characters\")\n",
        "else:\n",
        "  print(\"Duplicate character contains\")  "
      ],
      "execution_count": 48,
      "outputs": [
        {
          "output_type": "stream",
          "name": "stdout",
          "text": [
            "String: hello world\n",
            "['h', 'e', 'l', 'l', 'o', ' ', 'w', 'o', 'r', 'l', 'd']\n",
            "Duplicate character contains\n"
          ]
        }
      ]
    },
    {
      "cell_type": "code",
      "metadata": {
        "colab": {
          "base_uri": "https://localhost:8080/"
        },
        "id": "VuokLUN3YUz-",
        "outputId": "18d81d86-3dfe-4dc6-b988-f9da790361e7"
      },
      "source": [
        "s1 = \"hello world\"\n",
        "dup = {}\n",
        "\n",
        "for char in s1:\n",
        "   if char in dup:\n",
        "      dup[char] += 1 \n",
        "   else:\n",
        "      dup[char] = 1\n",
        "for key, value in dup.items():\n",
        "   if value > 1:\n",
        "      print(key, end = \" \")\n",
        "print()\n"
      ],
      "execution_count": 59,
      "outputs": [
        {
          "output_type": "stream",
          "name": "stdout",
          "text": [
            "l o \n"
          ]
        }
      ]
    },
    {
      "cell_type": "code",
      "metadata": {
        "colab": {
          "base_uri": "https://localhost:8080/"
        },
        "id": "ed5-aqxpbqVr",
        "outputId": "856863bc-041f-4834-984a-97a6f77829ac"
      },
      "source": [
        "d1 = {'name':'John','age':5,'school':'ABC'}\n",
        "print(d1['name'])\n",
        "print(d1['age'])\n",
        "print(d1['school'])"
      ],
      "execution_count": 61,
      "outputs": [
        {
          "output_type": "stream",
          "name": "stdout",
          "text": [
            "John\n",
            "5\n",
            "ABC\n"
          ]
        }
      ]
    },
    {
      "cell_type": "code",
      "metadata": {
        "colab": {
          "base_uri": "https://localhost:8080/"
        },
        "id": "qbo03SsfcKj5",
        "outputId": "fe4a5f41-ca66-4492-c4bf-f6f6c7a98cc4"
      },
      "source": [
        "d1 = {'name':'John','age':5,'school':'ABC'}\n",
        "d1['school'] = 'XYZ'\n",
        "d1"
      ],
      "execution_count": 62,
      "outputs": [
        {
          "output_type": "execute_result",
          "data": {
            "text/plain": [
              "{'age': 5, 'name': 'John', 'school': 'XYZ'}"
            ]
          },
          "metadata": {},
          "execution_count": 62
        }
      ]
    },
    {
      "cell_type": "code",
      "metadata": {
        "colab": {
          "base_uri": "https://localhost:8080/"
        },
        "id": "i8e3yyincVRm",
        "outputId": "b55b8642-5d59-4d8a-8648-5a42ec6d8031"
      },
      "source": [
        "d1['adress'] = 'Kolkata'\n",
        "d1"
      ],
      "execution_count": 65,
      "outputs": [
        {
          "output_type": "execute_result",
          "data": {
            "text/plain": [
              "{'adress': 'Kolkata', 'age': 5, 'name': 'John', 'school': 'ABC'}"
            ]
          },
          "metadata": {},
          "execution_count": 65
        }
      ]
    }
  ]
}